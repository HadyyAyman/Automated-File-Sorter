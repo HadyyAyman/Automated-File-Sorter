{
 "cells": [
  {
   "cell_type": "markdown",
   "id": "fc0877d3",
   "metadata": {},
   "source": [
    "# Automation File Explorer Sorter"
   ]
  },
  {
   "cell_type": "code",
   "execution_count": 23,
   "id": "54a528d2",
   "metadata": {},
   "outputs": [],
   "source": [
    "import os , shutil"
   ]
  },
  {
   "cell_type": "code",
   "execution_count": 24,
   "id": "d1ef71b4",
   "metadata": {},
   "outputs": [],
   "source": [
    "path = r\"C:/Users/DELL/Downloads/\""
   ]
  },
  {
   "cell_type": "code",
   "execution_count": 27,
   "id": "a12858b9",
   "metadata": {},
   "outputs": [
    {
     "name": "stdout",
     "output_type": "stream",
     "text": [
      "['Application folder', 'csv files', 'CV.docx', 'Cv.pdf', 'Downloads - Shortcut.lnk', 'Excel workbook files', 'GetFreeCourses.Co-Udemy-Microsoft Excel - Data Analysis with Excel Pivot Tables', 'GetFreeCourses.Co-Udemy-Microsoft-Excel-Data-Analysis-with-Excel-Pivot-Tables.zip', 'GetFreeCourses.Co-Udemy-Microsoft-Power-BI-Desktop-for-Business-Intelligence.zip', 'google.html', 'Movies', 'sqldatabase', 'Telegram Desktop', 'Text files', 'Udemy---Microsoft-Power-BI---A-Complete-Introduction.torrent']\n"
     ]
    }
   ],
   "source": [
    "file_names = os.listdir(path)\n",
    "print(file_names)"
   ]
  },
  {
   "cell_type": "code",
   "execution_count": 26,
   "id": "5bb44eb6",
   "metadata": {},
   "outputs": [],
   "source": [
    "folder_names = ['Excel workbook files', 'csv files', 'Application folder', 'Text files']\n",
    "\n",
    "for loop in range(0,4):\n",
    "    if not os.path.exists(path + folder_names[loop]):\n",
    "        os.makedirs((path + folder_names[loop]))\n",
    "        \n",
    "for file in file_names:\n",
    "    if \".csv\" in file and not os.path.exists(path + 'csv files/' + file):\n",
    "        shutil.move(path + file ,path + 'csv files/' + file)\n",
    "    if \".xlsx\" in file and not os.path.exists(path + 'Excel workbook files/' + file):\n",
    "        shutil.move(path + file ,path + 'Excel workbook files/' + file)\n",
    "    if \".exe\" in file and not os.path.exists(path + 'Application folder/' + file):\n",
    "        shutil.move(path + file ,path + 'Application folder/' + file)\n",
    "    if \".txt\" in file and not os.path.exists(path + 'Text files/' + file):\n",
    "        shutil.move(path + file ,path + 'Text files/' + file)"
   ]
  },
  {
   "cell_type": "code",
   "execution_count": 17,
   "id": "1b59d082",
   "metadata": {},
   "outputs": [],
   "source": []
  }
 ],
 "metadata": {
  "kernelspec": {
   "display_name": "Python 3 (ipykernel)",
   "language": "python",
   "name": "python3"
  },
  "language_info": {
   "codemirror_mode": {
    "name": "ipython",
    "version": 3
   },
   "file_extension": ".py",
   "mimetype": "text/x-python",
   "name": "python",
   "nbconvert_exporter": "python",
   "pygments_lexer": "ipython3",
   "version": "3.9.13"
  }
 },
 "nbformat": 4,
 "nbformat_minor": 5
}
